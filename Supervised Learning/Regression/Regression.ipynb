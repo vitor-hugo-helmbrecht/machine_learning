{
  "nbformat": 4,
  "nbformat_minor": 0,
  "metadata": {
    "colab": {
      "name": "LinearRegression.ipynb",
      "provenance": [],
      "collapsed_sections": [
        "B2EBZk3FdGSX",
        "UxGyiqipEIuq"
      ],
      "toc_visible": true
    },
    "kernelspec": {
      "name": "python3",
      "display_name": "Python 3"
    }
  },
  "cells": [
    {
      "cell_type": "markdown",
      "metadata": {
        "id": "view-in-github",
        "colab_type": "text"
      },
      "source": [
        "<a href=\"https://colab.research.google.com/drive/15giafLp0z0hY-zqPpXiM3U11uAneqyUm?usp=sharing" target=\"_parent\"><img src=\"https://colab.research.google.com/assets/colab-badge.svg\" alt=\"Open In Colab\"/></a>"
      ]
    },
    {
      "cell_type": "markdown",
      "metadata": {
        "id": "DmA10CYT8zgB"
      },
      "source": [
        "# Regression\n",
        "\n",
        "## Introduction\n",
        "\n",
        "So you have a lot of data that you can put in a graph and don't know what to do with it hmm?\n",
        "\n",
        "Well, good for you that you're here with me, exploring the misteryes about Regression and everithyng that it opens up to machine learning.\n",
        "\n",
        "Well, I just gave a quick introduction about what we'll learn here in the *readme.md* regression file of the repository and... Oh, you don't know my repository? Yeah, it's a learning repository on github about Data Science & Machine Learning, a pretty good one if you let me say so.\n",
        "\n",
        "How much you have to pay to see it? Well, normally I would charge something between 200 and 500 dollars, but since it's you who's asking, I'll make it cheaper. You just need to acces now [my repository](https://github.com/vitorhhelmbrecht/machine_learning) and give it a star. Thank you very much :D\n",
        "\n",
        "And if you already did give me the star or the 499 dollars, thank you very much as well :D"
      ]
    },
    {
      "cell_type": "markdown",
      "metadata": {
        "id": "B2EBZk3FdGSX"
      },
      "source": [
        "## Common Recommendation\n",
        "\n",
        "Now just 5 things that I'd like to recommend you before reading this document.\n",
        "1. If you really want to learn these things with me, it's better to start coding what we learn by yourself as well and just see if our results match. If they do, awesome! Just don't forget to compare and always try to get the best code possible (not saying that mine is the best at all, but I hope to be a good example). That's just the best way to learn both coding in python (if you're new like me) and the **machine learning** concepts that this documentation offers.\n",
        "1. If you're reading on Github, I'd recommend to open it with the google colab, so you can benefit from the next 3 recommendations.\n",
        "1. Open the **_table of contents_** tab on the top left of the tab, it's those 3 lines. This way you can easily see where you currently are in the document and go to wherever you want quicker as well.\n",
        "1. Start executing every piece of code that in the document. You can do that by accessing **_Runtime_** -> **_Run all_** or pressing $F9$ in your keyboard. That way you'll save some time and be sure to understand all the possible jokes in the document.\n",
        "1. Access the **_Settings_** (Top right or **_Tools_** -> **_Setting_**) -> **_Miscellaneous_** and activate **Corgi mode** and **Kitty mode**, or just the one you like the most. I'm sure that it'll boost your mood a lot while reading this documentation xD.\n",
        "\n",
        "Hope you enjoy and learn something out of it :)"
      ]
    },
    {
      "cell_type": "code",
      "metadata": {
        "colab": {
          "base_uri": "https://localhost:8080/",
          "height": 38
        },
        "id": "YybEzVdF-6gX",
        "outputId": "6524e0bb-7d8d-466d-81fc-88b4f3a750a9"
      },
      "source": [
        "%%html\n",
        "<marquee style='width: 30%; color: red;'><b>IIIIIIIIIIIIIIIIIIIIIIIIIIT'S TIIIIIIIIIIIIIIMEEEEEEEEEE!</b></marquee>"
      ],
      "execution_count": null,
      "outputs": [
        {
          "output_type": "display_data",
          "data": {
            "text/html": [
              "<marquee style='width: 30%; color: red;'><b>IIIIIIIIIIIIIIIIIIIIIIIIIIT'S TIIIIIIIIIIIIIIMEEEEEEEEEE!</b></marquee>"
            ],
            "text/plain": [
              "<IPython.core.display.HTML object>"
            ]
          },
          "metadata": {
            "tags": []
          }
        }
      ]
    },
    {
      "cell_type": "markdown",
      "metadata": {
        "id": "UxGyiqipEIuq"
      },
      "source": [
        "## Correlation\n",
        "\n",
        "As the wise man once said: \n",
        "> First things first\n",
        "\n",
        "Let's start with the basis of regression, more specifically, the basis of linear regression. If we want to put a lot of data in a graph and see how $x$ relates with $y$, we can't just put it there and hope something magical happens, right? I mean, you can, but you problably won't get anywhere (if you do, tell me what happened)."
      ]
    },
    {
      "cell_type": "markdown",
      "metadata": {
        "id": "ApfsyT-uYTWD"
      },
      "source": [
        "\n",
        "### What do we use Correlation for?\n",
        "\n",
        "Since we want to know how $x$ relates to $y$, we should at least see first if they have any kind of relation between them. To do so we can use correlation, a simple way to see how corelated two different sets of data are. To do so, we just need to use a pretty simple equation."
      ]
    },
    {
      "cell_type": "markdown",
      "metadata": {
        "id": "BBaTeqc-YU7Z"
      },
      "source": [
        "### Equation of correlation (uuh, nice rhyme)\n",
        "\n",
        "This is the pretty simple equation:\n",
        "\n",
        "$r = \\sum(x - \\bar{x})(y - \\bar{y}) / \\sqrt{[\\sum(x - \\bar{x})^2][\\sum(y - \\bar{y})^2]} $\n",
        "\n",
        "$CALM \\ DOWN$\n",
        "\n",
        "It's not as hard as you're thinking it is ok? Just calm down. It may look like a 12 headed hydra, but it's only a normal 9 headed one, don't worry.\n",
        "\n",
        "So, let's break down this beautifull equation and see how easy it is:\n",
        "* $x$: The value of $x$ currently (since you're using sum ([$\\sum$](http://www.columbia.edu/itc/sipa/math/summation.html)) in everything, you pass by every value of the set of values you have).\n",
        "* $\\bar{x}$: The average value of the dataset $X$.\n",
        "* $y$: The value of $y$ currently (same thing as $x$)\n",
        "* $\\bar{y}$: The average value of the dataset $Y$.\n",
        "* $r$: The correlation value, always have to be between -1 and 1.\n",
        "\n",
        "See? These are the only things we need to know to get the value of correlation. Not that hard, huh?"
      ]
    },
    {
      "cell_type": "markdown",
      "metadata": {
        "id": "CqUvR6nKYWyr"
      },
      "source": [
        "### Interpreting the correlation\n",
        "\n",
        "Once we understood the equation, we need to know what information the correlation will give us. As we can see above, the $r$ always has to be a value between -1 and 1. That happens because that's just what the equation returns, no matter what's your input, and the closer the result is to one of the extremes, the harder our datasets are correlated. It also says to us the direction that the data will take on the graph. If the correlation is negative, the data will be going downwards in the graph, while if the correlation is positive, the data will be going upwards."
      ]
    },
    {
      "cell_type": "markdown",
      "metadata": {
        "id": "JupULfYMYntv"
      },
      "source": [
        "### Examples\n",
        "\n",
        "I've prepared the following examples for us:"
      ]
    },
    {
      "cell_type": "code",
      "metadata": {
        "colab": {
          "base_uri": "https://localhost:8080/",
          "height": 1000
        },
        "id": "8AqvZKLgR3Cq",
        "outputId": "2ff91a34-699f-43f8-ccab-1f8e72851a64"
      },
      "source": [
        "x1 = [1, 2, 3, 4, 5, 6, 7, 8, 9, 10]\n",
        "y1 = [1, 2, 3, 4, 5, 6, 7, 8, 9, 10]\n",
        "\n",
        "x2 = [1, 2, 3, 4, 5, 6, 7, 8, 9, 10]\n",
        "y2 = [10, 8, 6, 7, 6, 5, 3, 4, 1, 2]\n",
        "\n",
        "x3 = [10,8,13,9,11,14,6,4,12,7,5]\n",
        "y3 = [8.04,6.95,7.58,8.81,8.33,9.96,7.24,4.26,10.84,4.82,5.68]\n",
        "\n",
        "x4 = [10,8,13,9,11,14,6,4,12,7,5]\n",
        "y4 = [9.14,8.14,8.47,8.77,9.26,8.10,6.13,3.10,9.13,7.26,4.74]\n",
        "\n",
        "x5 = [8,8,8,8,8,8,8,8,8,8,19]\n",
        "y5 = [6.58,5.76,7.71,8.84,8.47,7.04,5.25,5.56,7.91,6.89,12.50]\n",
        "\n",
        "fig, ax = plt.subplots(figsize=(8,5))\n",
        "# Scatter draws the points in the graph given the coordinates\n",
        "ax.scatter(x1, y1)\n",
        "\n",
        "fig2, ax2 = plt.subplots(figsize=(8,5))\n",
        "ax2.scatter(x2, y2)\n",
        "\n",
        "fig3, ax3 = plt.subplots(figsize=(8,5))\n",
        "ax3.scatter(x3, y3)\n",
        "\n",
        "fig4, ax4 = plt.subplots(figsize=(8,5))\n",
        "ax4.scatter(x4, y4)\n",
        "\n",
        "fig5, ax5 = plt.subplots(figsize=(8,5))\n",
        "ax5.scatter(x5, y5)"
      ],
      "execution_count": 68,
      "outputs": [
        {
          "output_type": "execute_result",
          "data": {
            "text/plain": [
              "<matplotlib.collections.PathCollection at 0x7f735dde6b00>"
            ]
          },
          "metadata": {
            "tags": []
          },
          "execution_count": 68
        },
        {
          "output_type": "display_data",
          "data": {
            "image/png": "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\n",
            "text/plain": [
              "<Figure size 576x360 with 1 Axes>"
            ]
          },
          "metadata": {
            "tags": [],
            "needs_background": "light"
          }
        },
        {
          "output_type": "display_data",
          "data": {
            "image/png": "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\n",
            "text/plain": [
              "<Figure size 576x360 with 1 Axes>"
            ]
          },
          "metadata": {
            "tags": [],
            "needs_background": "light"
          }
        },
        {
          "output_type": "display_data",
          "data": {
            "image/png": "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\n",
            "text/plain": [
              "<Figure size 576x360 with 1 Axes>"
            ]
          },
          "metadata": {
            "tags": [],
            "needs_background": "light"
          }
        },
        {
          "output_type": "display_data",
          "data": {
            "image/png": "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\n",
            "text/plain": [
              "<Figure size 576x360 with 1 Axes>"
            ]
          },
          "metadata": {
            "tags": [],
            "needs_background": "light"
          }
        },
        {
          "output_type": "display_data",
          "data": {
            "image/png": "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\n",
            "text/plain": [
              "<Figure size 576x360 with 1 Axes>"
            ]
          },
          "metadata": {
            "tags": [],
            "needs_background": "light"
          }
        }
      ]
    },
    {
      "cell_type": "markdown",
      "metadata": {
        "id": "Biv3Jb4bSsE-"
      },
      "source": [
        "Based on the graphs above, you can see that:\n",
        "\n",
        "* The first graph have some data going upwards and they are completely linear, because everityme $x$ goes up, $y$ goes up as well and in the same rate.\n",
        "\n",
        "* In the second graph, the data now goes downwards, and it isn't as linear as the first one, but as the $x$ goes up, $y$ mainly goes down at the same rate.\n",
        "\n",
        "* With the third graph we can see that the data actually goes upwards, so you can still say that when $x$ goes up, $y$ goes up as well, at least in most of the times.\n",
        "\n",
        "* In the fourth graph, $y$ accompanies $x$ upwards for a good part, but after $x$ hits a certain point, $y$ starts to go downwards.\n",
        "\n",
        "* Now in the fifth graph we can say that $x$ and $y$ have basically no corelation at all, once $x$ stays at zero until $y$ gets to a point where $x$ instantly raises a lot.\n",
        "\n",
        "So, we know everything we need about correlation. Let's code it out and see the results based on the graphs above!"
      ]
    },
    {
      "cell_type": "code",
      "metadata": {
        "id": "HpN3fxJaNzDN"
      },
      "source": [
        "import numpy as np\n",
        "import matplotlib.pyplot as plt\n",
        "import math"
      ],
      "execution_count": 47,
      "outputs": []
    },
    {
      "cell_type": "code",
      "metadata": {
        "id": "B13ZBrV8L8hG"
      },
      "source": [
        "def correlation(dataset_x, dataset_y):\n",
        "  # First things first, let's take the average values of boths the datasets we have\n",
        "  avrg_x = sum(dataset_x)/len(dataset_x)\n",
        "  varg_y = sum(dataset_y)/len(dataset_y)\n",
        "  \n",
        "  sum_1 = 0\n",
        "  \n",
        "  # This part represents the \"∑((x − x¯) * (y − y¯))\" beeing stored at \"sum_1\"\n",
        "  for x in range(len(dataset_x)):\n",
        "    sum_1 += (dataset_x[x] - avrg_x) * (dataset_y[x] - varg_y)\n",
        "\n",
        "  # sum_2 represents \"[∑(x − x¯)²]\"\n",
        "  sum_2 = 0\n",
        "  # sum_3 represents \"[∑(y − y¯)²]\"\n",
        "  sum_3 = 0\n",
        "\n",
        "  for i in range(len(dataset_x)):\n",
        "    sum_2 += (dataset_x[i] - avrg_x) ** 2\n",
        "    sum_3 += (dataset_y[i] - varg_y) ** 2\n",
        "  \n",
        "  \n",
        "  # squared root of ([∑(x−x¯)²][∑(y−y¯)²)\n",
        "  squared_value = math.sqrt(sum_2 * sum_3)\n",
        "\n",
        "  # ∑(x − x¯)(y − y¯) / (squared root of([∑(x − x¯)²][∑(y − y¯)²]))\n",
        "  correlation_value = sum_1 / squared_value\n",
        "\n",
        "  return correlation_value"
      ],
      "execution_count": 48,
      "outputs": []
    },
    {
      "cell_type": "markdown",
      "metadata": {
        "id": "wdRaf5R5QbCV"
      },
      "source": [
        "And there we have it, we just coded the correlation equation for our first time, congratulations for us, wheeeeee!\n",
        "\n",
        "Now let's test it out with the data we have and see if it works as intended."
      ]
    },
    {
      "cell_type": "code",
      "metadata": {
        "colab": {
          "base_uri": "https://localhost:8080/"
        },
        "id": "c6N-7yEpLrgV",
        "outputId": "5e1c8afd-9fff-4115-c529-c6bfe0d07b4a"
      },
      "source": [
        "print('x1-y1:',correlation(x1, y1))\n",
        "print('x2-y2:',correlation(x2, y2))\n",
        "print('x3-y3:',correlation(x3, y3))\n",
        "print('x4-y4:',correlation(x4, y4))\n",
        "print('x5-y5:',correlation(x5, y5))"
      ],
      "execution_count": 66,
      "outputs": [
        {
          "output_type": "stream",
          "text": [
            "x1-y1: 1.0\n",
            "x2-y2: -0.950169098957875\n",
            "x3-y3: 0.81642051634484\n",
            "x4-y4: 0.8061168716933017\n",
            "x5-y5: 0.8165214368885029\n"
          ],
          "name": "stdout"
        }
      ]
    },
    {
      "cell_type": "markdown",
      "metadata": {
        "id": "oAhdMJQRZMnU"
      },
      "source": [
        "Yeah, I know, these numbers don't seem to be really right...\n",
        "\n",
        "But believe me, they are 100% accurate values.\n",
        "\n",
        "And that's why, even though it's interesting to know about correlation and how it works, since it works well only for Linear Regressions (we'll se about it soon, don't worry), it isn't precise with graphs where the linear progression does not work.\n",
        "\n",
        "If you think about it, the first three result are really reliable, since we know that the data only goes to a single direction from star to finish. But even the last two results are pretty right, even though they're not reliable. You can say they are precise when you notice that, for the most part, the datasets of the graphs four and five stay at a straight line.\n",
        "\n",
        "So, that's the lesson for this correlation topic: \n",
        "> if you know that you can use Linear Regression, it's pretty nice if you know the correlation as well, since it'll help you know how precise your foresighting will be with the results of your Regression."
      ]
    },
    {
      "cell_type": "markdown",
      "metadata": {
        "id": "4kZBbAxf2-Pd"
      },
      "source": [
        "## Linear Regression\n",
        "Since we learned what correlation is and how it works, let's go to some real Regression.\n",
        "\n",
        "Linear Regression is the easiest and less used/applicable regression that exists. To understand why that happens, let's first understand it's purpose and how it works."
      ]
    },
    {
      "cell_type": "markdown",
      "metadata": {
        "id": "p65V3T9x8h4I"
      },
      "source": [
        "### Purpose\n",
        "Let's imagine we have a graph with the X coordinates being 250,280,350,480,530,625,750,271,1430,1245,1000 and Y coordinates being 100,120,180,250,420,500,680,200,1000,1250,950."
      ]
    },
    {
      "cell_type": "code",
      "metadata": {
        "colab": {
          "base_uri": "https://localhost:8080/",
          "height": 367
        },
        "id": "KDC-gXNz5EHZ",
        "outputId": "048c95a7-9757-4091-e109-892c76035851"
      },
      "source": [
        "x = [250,280,350,480,530,625,750,271,1430,1245,1000]\n",
        "y = [100,120,180,250,420,500,680,200,1000,1250,950]\n",
        "\n",
        "fig, ax = plt.subplots(figsize=(8,5))\n",
        "ax.scatter(x, y)\n",
        "\n",
        "ax.set_xlabel('X', color='white')\n",
        "ax.set_ylabel('Y', color='white')\n",
        "\n",
        "ax.set_title('Data correlation rate: ' + str(correlacao(x, y)), color='white')"
      ],
      "execution_count": 73,
      "outputs": [
        {
          "output_type": "execute_result",
          "data": {
            "text/plain": [
              "Text(0.5, 1.0, 'Data correlation rate: 0.9594589776284685')"
            ]
          },
          "metadata": {
            "tags": []
          },
          "execution_count": 73
        },
        {
          "output_type": "display_data",
          "data": {
            "image/png": "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\n",
            "text/plain": [
              "<Figure size 576x360 with 1 Axes>"
            ]
          },
          "metadata": {
            "tags": [],
            "needs_background": "light"
          }
        }
      ]
    },
    {
      "cell_type": "markdown",
      "metadata": {
        "id": "lM-XdgkC4i8B"
      },
      "source": [
        "Oh, look, we DO have a graph, and with those exact same values. What a coincidence.\n",
        "\n",
        "Now that we have the graph, let's consider the data of the graph being some data that we want to study and learn a pattern out of it.\n",
        "\n",
        "\"But why do we want to learn the pattern of that data?\" you may ask. Then I answer you with another question: \"Why WOULDN'T we want to do so?\".\n",
        "\n",
        "No, but for real, it is really interesting to know the pattern, since once we get it, you can predict some new data based on that. \n",
        "\n",
        "Let's make an example: X is the size of a house (in m² because I use the metric system) and Y is the price of that house (in thousands of dollars).\n",
        "\n",
        "Once we know the pattern of prices based on the size of the houses, we can predict prices of houses that are not on our primary dataset based on their sizes.\n",
        "\n",
        "Now that we know the purpose of regression, let's see how the simplest regression, the linear, works."
      ]
    },
    {
      "cell_type": "markdown",
      "metadata": {
        "id": "795d4x-U8t0_"
      },
      "source": [
        "### How it works\n",
        "\n",
        "Let's use the data of the price/size of the houses for this. So, now we have our data, and we want to find the pattern of this data. To do so, we'll have to find a function that can return us the value of $y$ once we give it an $x$. I think we've already seen that text somewhere... Yeah, high school, with that beautiful $y = f(x)$, but what we want the algorithm to find this time is the $f$, based on the data we give him.\n",
        "\n",
        "Since we're working with linear regression, there is a simple way of finding that function:  \n",
        "\n",
        "$y = β0 +β1x$\n",
        "\n",
        "In this equation, we have the following meanings:\n",
        "* $y$ = Dependent variable\n",
        "* $β0$ = Point where the line intercepts the $y$ axe\n",
        "* $β1$ = Angular coeficient\n",
        "* $x$ = Independent variable\n",
        "\n",
        "Ok, a lot of quite dificult words, let's break it in parts. Based on what we said before, we can safely say that the price of the house would be $y$ and the size of the house would be $x$, since the price completely depends on the size of the house. $β0 +β1x$ is basically $f(x)$. Now, to get $β0$ and $β1$, we need to pick another 2 equations:\n",
        "\n",
        "$𝛽0 = \\bar{y} - β1 \\bar{x} $\n",
        "\n",
        "$𝛽1= \\sum(x−\\bar{x})(y−\\bar{y}) / \\sum(x−\\bar{x})^2$\n",
        "\n",
        "In those cases, the letters with a bar on top of them like $\\bar{x}$ and $\\bar{y}$ repesents the average of the $x$ and $y$ values (as we've seen in the correlation topic).\n",
        "\n",
        "Now let's code thoes beautifull equations out!"
      ]
    },
    {
      "cell_type": "code",
      "metadata": {
        "colab": {
          "base_uri": "https://localhost:8080/",
          "height": 367
        },
        "id": "NHH-nlHT58Ms",
        "outputId": "dcbb061d-0872-465b-8eb4-981f55619c0b"
      },
      "source": [
        "# Calculate β1 first\n",
        "\n",
        "# x and y with a bar on top\n",
        "average_of_x = sum(x) / len(x)\n",
        "average_of_y = sum(y) / len(y)\n",
        "\n",
        "first_sum_beta_1 = 0\n",
        "second_sum_beta_1 = 0\n",
        "\n",
        "for i in range(len(x)):\n",
        "  value_x = x[i] - average_of_x\n",
        "  first_sum_beta_1 += value_x * (y[i] - average_of_y)\n",
        "  second_sum_beta_1 += value_x ** 2\n",
        "\n",
        "beta_1 = first_sum_beta_1 / second_sum_beta_1\n",
        "\n",
        "# Now calculate β0\n",
        "\n",
        "beta_0 = average_of_y - beta_1 * average_of_x\n",
        "\n",
        "# Now we have the f(x), we just need the x\n",
        "# Let's pick the proper x values that we already have to see how it goes\n",
        "\n",
        "new_y_values = [beta_0 + beta_1 * value_x for value_x in x]\n",
        "\n",
        "fig, ax = plt.subplots(figsize=(8,5))\n",
        "ax.scatter(x, y)\n",
        "\n",
        "# plot draws a line between the points given the points coordinates\n",
        "ax.plot(x, new_y_values)\n",
        "\n",
        "ax.set_xlabel('X', color='white')\n",
        "ax.set_ylabel('Y', color='white')\n",
        "\n",
        "ax.set_title(\"Data correlation rate: \" + str(correlacao(x, y)), color='white')"
      ],
      "execution_count": 74,
      "outputs": [
        {
          "output_type": "execute_result",
          "data": {
            "text/plain": [
              "Text(0.5, 1.0, 'Data correlation rate: 0.9594589776284685')"
            ]
          },
          "metadata": {
            "tags": []
          },
          "execution_count": 74
        },
        {
          "output_type": "display_data",
          "data": {
            "image/png": "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\n",
            "text/plain": [
              "<Figure size 576x360 with 1 Axes>"
            ]
          },
          "metadata": {
            "tags": [],
            "needs_background": "light"
          }
        }
      ]
    },
    {
      "cell_type": "markdown",
      "metadata": {
        "id": "wxnACM1BXs6F"
      },
      "source": [
        "And there it goes, there's the regression line that our algorithm traced.\n",
        "\n",
        "Since we now have the $f(x)$ ($β0+β1x$) and the values to use in this function, we can now predict the price of a house with, for example, 1850m²:"
      ]
    },
    {
      "cell_type": "code",
      "metadata": {
        "colab": {
          "base_uri": "https://localhost:8080/"
        },
        "id": "UAAHq_zPYK6I",
        "outputId": "ad0b2514-4d97-4f82-9378-9eb1e84290f9"
      },
      "source": [
        "print('A house with 1850m² should have a price near $' + str(beta_0 + beta_1 * 1850), 'thousands of dollars.')"
      ],
      "execution_count": null,
      "outputs": [
        {
          "output_type": "stream",
          "text": [
            "A house with 1850m² should have a price near $1639.5786559387525 thousands of dollars.\n"
          ],
          "name": "stdout"
        }
      ]
    },
    {
      "cell_type": "markdown",
      "metadata": {
        "id": "8xwOu3MbZEva"
      },
      "source": [
        "See? This actually can be usefull. Next we'll talk about some harder ones, like multilinear and polygonal regressions. \n",
        "\n",
        "Hope you're liking it and learning well untill now :)"
      ]
    }
  ]
}
