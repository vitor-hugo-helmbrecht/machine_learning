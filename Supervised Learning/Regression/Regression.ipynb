{
  "nbformat": 4,
  "nbformat_minor": 0,
  "metadata": {
    "colab": {
      "name": "Regression.ipynb",
      "provenance": [],
      "collapsed_sections": [],
      "toc_visible": true
    },
    "kernelspec": {
      "name": "python3",
      "display_name": "Python 3"
    }
  },
  "cells": [
    {
      "cell_type": "markdown",
      "metadata": {
        "id": "view-in-github",
        "colab_type": "text"
      },
      "source": [
        "<a href=\"https://colab.research.google.com/drive/15giafLp0z0hY-zqPpXiM3U11uAneqyUm?usp=sharing\" target=\"_parent\"><img src=\"https://colab.research.google.com/assets/colab-badge.svg\" alt=\"Open In Colab\"/></a>"
      ]
    },
    {
      "cell_type": "markdown",
      "metadata": {
        "id": "DmA10CYT8zgB"
      },
      "source": [
        "# Regression\n",
        "\n",
        "## Introduction\n",
        "\n",
        "So you have a lot of data that you can put in a graph and don't know what to do with it hmm?\n",
        "\n",
        "Well, good for you that you're here with me, exploring the misteryes about Regression and everithyng that it opens up to machine learning.\n",
        "\n",
        "Well, I just gave a quick introduction about what we'll learn here in the *readme.md* regression file of the repository and... Oh, you don't know my repository? Yeah, it's a learning repository on github about Data Science & Machine Learning, a pretty good one if you let me say so.\n",
        "\n",
        "How much you have to pay to see it? Well, normally I would charge something between 200 and 500 dollars, but since it's you who's asking, I'll make it cheaper. You just need to acces now [my repository](https://github.com/vitorhhelmbrecht/machine_learning) and give it a star. Thank you very much :D\n",
        "\n",
        "And if you already did give me the star or the 499 dollars, thank you very much as well :D"
      ]
    },
    {
      "cell_type": "markdown",
      "metadata": {
        "id": "B2EBZk3FdGSX"
      },
      "source": [
        "## Common Recommendation\n",
        "\n",
        "There are 5 things that I'd like to recommend you before reading this document.\n",
        "1. If you really want to learn these things with me, it's better to start coding what we learn by yourself as well and just see if our results match. If they do, awesome! Just don't forget to compare and always try to get the best code possible (not saying that mine is the best at all, but I hope to be a good example). That's just the best way to learn both coding in python (if you're new like me) and the **machine learning** concepts that this documentation offers.\n",
        "1. If you're reading on Github, I'd recommend opening it with the google colab. To do so, you just need to click at the \"Open in colab\" button on the start of this doc. There are some things in the Google Colab markdown that doesn't exist on the Github, so for example, you won't see $\\hat{y}$ in Github's markdown (at least you wouldn't at the time I created this). Also, you can benefit from the next 3 recommendations using Google Colab.\n",
        "1. Open the **_table of contents_** tab on the top left of the tab, it's those 3 lines. This way you can easily see where you currently are in the document and go to wherever you want quicker as well.\n",
        "1. Start executing every piece of code that is in the document, even if you want to see just a part of it. You can do that by accessing **_Runtime_** -> **_Run all_** or pressing _CTRL + F9_ in your keyboard. That way you'll save some time, make sure you won't get any error when executing separated blocks and will be able to understand all the possible jokes in the document.\n",
        "1. Access the **_Settings_** (Top right or **_Tools_** -> **_Setting_**) -> **_Miscellaneous_** and activate **Corgi mode** and **Kitty mode**, or just the one you like the most. I'm sure that it'll boost your mood a lot while reading this documentation xD.\n",
        "\n",
        "Hope you enjoy and learn something out of it :)"
      ]
    },
    {
      "cell_type": "code",
      "metadata": {
        "colab": {
          "base_uri": "https://localhost:8080/",
          "height": 38
        },
        "id": "YybEzVdF-6gX",
        "outputId": "dd2d7b59-f028-49c7-a05b-84bac167662f"
      },
      "source": [
        "%%html\n",
        "<marquee style='width: 30%; color: red;'><b>IIIIIIIIIIIIIIIIIIIIIIIIIIT'S TIIIIIIIIIIIIIIMEEEEEEEEEE!</b></marquee>"
      ],
      "execution_count": 32,
      "outputs": [
        {
          "output_type": "display_data",
          "data": {
            "text/html": [
              "<marquee style='width: 30%; color: red;'><b>IIIIIIIIIIIIIIIIIIIIIIIIIIT'S TIIIIIIIIIIIIIIMEEEEEEEEEE!</b></marquee>"
            ],
            "text/plain": [
              "<IPython.core.display.HTML object>"
            ]
          },
          "metadata": {
            "tags": []
          }
        }
      ]
    },
    {
      "cell_type": "markdown",
      "metadata": {
        "id": "UxGyiqipEIuq"
      },
      "source": [
        "## Correlation\n",
        "\n",
        "As the wise man once said: \n",
        "> First things first\n",
        "\n",
        "Let's start with the basis of regression, more specifically, the basis of linear regression. If we want to put a lot of data in a graph and see how $x$ relates with $y$, we can't just put it there and hope something magical happens, right? I mean, you can, but you problably won't get anywhere (if you do, tell me what happened)."
      ]
    },
    {
      "cell_type": "markdown",
      "metadata": {
        "id": "ApfsyT-uYTWD"
      },
      "source": [
        "\n",
        "### What do we use Correlation for?\n",
        "\n",
        "Since we want to know how $x$ relates to $y$, we should at least see first if they have any kind of relation between them. To do so we can use correlation, a simple way to see how corelated two different sets of data are. To do so, we just need to use a pretty simple equation."
      ]
    },
    {
      "cell_type": "markdown",
      "metadata": {
        "id": "BBaTeqc-YU7Z"
      },
      "source": [
        "### Equation of correlation (uuh, nice rhyme)\n",
        "\n",
        "This is the pretty simple equation:\n",
        "\n",
        "$r = \\sum(x - \\bar{x})(y - \\bar{y}) / \\sqrt{[\\sum(x - \\bar{x})^2][\\sum(y - \\bar{y})^2]} $\n",
        "\n",
        "$CALM \\ DOWN$\n",
        "\n",
        "It's not as hard as you're thinking it is ok? Just calm down. It may look like a 12 headed hydra, but it's only a normal 9 headed one, don't worry.\n",
        "\n",
        "So, let's break down this beautifull equation and see how easy it is:\n",
        "* $x$: The value of $x$ currently (since you're using sum ([$\\sum$](http://www.columbia.edu/itc/sipa/math/summation.html)) in everything, you pass by every value of the set of values you have).\n",
        "* $\\bar{x}$: The average value of the dataset $X$.\n",
        "* $y$: The value of $y$ currently (same thing as $x$)\n",
        "* $\\bar{y}$: The average value of the dataset $Y$.\n",
        "* $r$: The correlation value, always have to be between -1 and 1.\n",
        "\n",
        "See? These are the only things we need to know to get the value of correlation. Not that hard, huh?"
      ]
    },
    {
      "cell_type": "markdown",
      "metadata": {
        "id": "CqUvR6nKYWyr"
      },
      "source": [
        "### Interpreting the correlation\n",
        "\n",
        "Once we understood the equation, we need to know what information the correlation will give us. As we can see above, the $r$ always has to be a value between -1 and 1. That happens because that's just what the equation returns, no matter what's your input, and the closer the result is to one of the extremes, the harder our datasets are correlated. It also says to us the direction that the data will take on the graph. If the correlation is negative, the data will be going downwards in the graph, while if the correlation is positive, the data will be going upwards."
      ]
    },
    {
      "cell_type": "markdown",
      "metadata": {
        "id": "JupULfYMYntv"
      },
      "source": [
        "### Examples\n",
        "\n",
        "I've prepared the following examples for us:"
      ]
    },
    {
      "cell_type": "code",
      "metadata": {
        "id": "HpN3fxJaNzDN"
      },
      "source": [
        "import numpy as np\n",
        "import matplotlib.pyplot as plt\n",
        "import math"
      ],
      "execution_count": 33,
      "outputs": []
    },
    {
      "cell_type": "code",
      "metadata": {
        "id": "8AqvZKLgR3Cq",
        "colab": {
          "base_uri": "https://localhost:8080/",
          "height": 1000
        },
        "outputId": "3d8e7b29-4ad3-4741-fedc-65b2910af40f"
      },
      "source": [
        "x1 = [1, 2, 3, 4, 5, 6, 7, 8, 9, 10]\n",
        "y1 = [1, 2, 3, 4, 5, 6, 7, 8, 9, 10]\n",
        "\n",
        "x2 = [1, 2, 3, 4, 5, 6, 7, 8, 9, 10]\n",
        "y2 = [10, 8, 6, 7, 6, 5, 3, 4, 1, 2]\n",
        "\n",
        "x3 = [10,8,13,9,11,14,6,4,12,7,5]\n",
        "y3 = [8.04,6.95,7.58,8.81,8.33,9.96,7.24,4.26,10.84,4.82,5.68]\n",
        "\n",
        "x4 = [10,8,13,9,11,14,6,4,12,7,5]\n",
        "y4 = [9.14,8.14,8.47,8.77,9.26,8.10,6.13,3.10,9.13,7.26,4.74]\n",
        "\n",
        "x5 = [8,8,8,8,8,8,8,8,8,8,19]\n",
        "y5 = [6.58,5.76,7.71,8.84,8.47,7.04,5.25,5.56,7.91,6.89,12.50]\n",
        "\n",
        "x6 = [0, 1, 2, 3, 4, 5, 6, 7, 8, 9]\n",
        "y6 = [8, 6, 4, 2, 0, 0, 2, 4, 6, 8]\n",
        "\n",
        "fig, ax = plt.subplots(figsize=(8,5))\n",
        "# Scatter draws the points in the graph given the coordinates\n",
        "ax.scatter(x1, y1)\n",
        "\n",
        "fig2, ax2 = plt.subplots(figsize=(8,5))\n",
        "ax2.scatter(x2, y2)\n",
        "\n",
        "fig3, ax3 = plt.subplots(figsize=(8,5))\n",
        "ax3.scatter(x3, y3)\n",
        "\n",
        "fig4, ax4 = plt.subplots(figsize=(8,5))\n",
        "ax4.scatter(x4, y4)\n",
        "\n",
        "fig5, ax5 = plt.subplots(figsize=(8,5))\n",
        "ax5.scatter(x5, y5)\n",
        "\n",
        "fig6, ax6 = plt.subplots(figsize=(8,5))\n",
        "ax6.scatter(x6, y6)"
      ],
      "execution_count": 34,
      "outputs": [
        {
          "output_type": "execute_result",
          "data": {
            "text/plain": [
              "<matplotlib.collections.PathCollection at 0x7f98e67e7be0>"
            ]
          },
          "metadata": {
            "tags": []
          },
          "execution_count": 34
        },
        {
          "output_type": "display_data",
          "data": {
            "image/png": "[encoded data removed]",
            "text/plain": [
              "<Figure size 576x360 with 1 Axes>"
            ]
          },
          "metadata": {
            "tags": [],
            "needs_background": "light"
          }
        },
        {
          "output_type": "display_data",
          "data": {
            "image/png": "[encoded data removed]",
            "text/plain": [
              "<Figure size 576x360 with 1 Axes>"
            ]
          },
          "metadata": {
            "tags": [],
            "needs_background": "light"
          }
        },
        {
          "output_type": "display_data",
          "data": {
            "image/png": "[encoded data removed]",
            "text/plain": [
              "<Figure size 576x360 with 1 Axes>"
            ]
          },
          "metadata": {
            "tags": [],
            "needs_background": "light"
          }
        },
        {
          "output_type": "display_data",
          "data": {
            "image/png": "[encoded data removed]",
            "text/plain": [
              "<Figure size 576x360 with 1 Axes>"
            ]
          },
          "metadata": {
            "tags": [],
            "needs_background": "light"
          }
        },
        {
          "output_type": "display_data",
          "data": {
            "image/png": "[encoded data removed]",
            "text/plain": [
              "<Figure size 576x360 with 1 Axes>"
            ]
          },
          "metadata": {
            "tags": [],
            "needs_background": "light"
          }
        },
        {
          "output_type": "display_data",
          "data": {
            "image/png": "[encoded data removed]",
            "text/plain": [
              "<Figure size 576x360 with 1 Axes>"
            ]
          },
          "metadata": {
            "tags": [],
            "needs_background": "light"
          }
        }
      ]
    },
    {
      "cell_type": "markdown",
      "metadata": {
        "id": "Biv3Jb4bSsE-"
      },
      "source": [
        "Based on the graphs above, you can see that:\n",
        "\n",
        "* The first graph have some data going upwards and they are completely linear, because everityme $x$ goes up, $y$ goes up as well and in the same rate.\n",
        "\n",
        "* In the second graph, the data now goes downwards, and it isn't as linear as the first one, but as the $x$ goes up, $y$ mainly goes down at the same rate.\n",
        "\n",
        "* With the third graph we can see that the data actually goes upwards, so you can still say that when $x$ goes up, $y$ goes up as well, at least in most of the times.\n",
        "\n",
        "* In the fourth graph, $y$ accompanies $x$ upwards for a good part, but after $x$ hits a certain point, $y$ starts to go downwards.\n",
        "\n",
        "* Now in the fifth graph we can say that $x$ and $y$ have basically no corelation at all, once $x$ stays at zero until $y$ gets to a point where $x$ instantly raises a lot.\n",
        "\n",
        "* And finnaly, in the last graph, we can see a pretty consistent relation between the datasets, even though it inverts its direction after the middle of the graph.\n",
        "\n",
        "So, we know everything we need about correlation. Let's code it out and see the results based on the graphs above!"
      ]
    },
    {
      "cell_type": "code",
      "metadata": {
        "id": "B13ZBrV8L8hG"
      },
      "source": [
        "def correlation(dataset_x, dataset_y):\n",
        "  # First things first, let's take the average values of boths the datasets we have\n",
        "  avrg_x = sum(dataset_x)/len(dataset_x)\n",
        "  varg_y = sum(dataset_y)/len(dataset_y)\n",
        "  \n",
        "  sum_1 = 0\n",
        "  \n",
        "  # This part represents the \"∑((x − x¯) * (y − y¯))\" beeing stored at \"sum_1\"\n",
        "  for x in range(len(dataset_x)):\n",
        "    sum_1 += (dataset_x[x] - avrg_x) * (dataset_y[x] - varg_y)\n",
        "\n",
        "  # sum_2 represents \"[∑(x − x¯)²]\"\n",
        "  sum_2 = 0\n",
        "  # sum_3 represents \"[∑(y − y¯)²]\"\n",
        "  sum_3 = 0\n",
        "\n",
        "  for i in range(len(dataset_x)):\n",
        "    sum_2 += (dataset_x[i] - avrg_x) ** 2\n",
        "    sum_3 += (dataset_y[i] - varg_y) ** 2\n",
        "  \n",
        "  \n",
        "  # squared root of ([∑(x−x¯)²][∑(y−y¯)²)\n",
        "  squared_value = math.sqrt(sum_2 * sum_3)\n",
        "\n",
        "  # ∑(x − x¯)(y − y¯) / (squared root of([∑(x − x¯)²][∑(y − y¯)²]))\n",
        "  correlation_value = sum_1 / squared_value\n",
        "\n",
        "  return correlation_value"
      ],
      "execution_count": 35,
      "outputs": []
    },
    {
      "cell_type": "markdown",
      "metadata": {
        "id": "wdRaf5R5QbCV"
      },
      "source": [
        "And there we have it, we just coded the correlation equation for our first time, congratulations for us, wheeeeee!\n",
        "\n",
        "Now let's test it out with the data we have and see if it works as intended."
      ]
    },
    {
      "cell_type": "code",
      "metadata": {
        "id": "c6N-7yEpLrgV",
        "colab": {
          "base_uri": "https://localhost:8080/"
        },
        "outputId": "0258d7b0-aeac-417a-abba-34244bbb6588"
      },
      "source": [
        "print('x1-y1:',correlation(x1, y1))\n",
        "print('x2-y2:',correlation(x2, y2))\n",
        "print('x3-y3:',correlation(x3, y3))\n",
        "print('x4-y4:',correlation(x4, y4))\n",
        "print('x5-y5:',correlation(x5, y5))\n",
        "print('x5-y5:',correlation(x6, y6))"
      ],
      "execution_count": 36,
      "outputs": [
        {
          "output_type": "stream",
          "text": [
            "x1-y1: 1.0\n",
            "x2-y2: -0.950169098957875\n",
            "x3-y3: 0.81642051634484\n",
            "x4-y4: 0.8061168716933017\n",
            "x5-y5: 0.8165214368885029\n",
            "x5-y5: 0.0\n"
          ],
          "name": "stdout"
        }
      ]
    },
    {
      "cell_type": "markdown",
      "metadata": {
        "id": "oAhdMJQRZMnU"
      },
      "source": [
        "Yeah, I know, these numbers don't seem to be really right...\n",
        "\n",
        "But believe me, they are 100% accurate values.\n",
        "\n",
        "And that's why, even though it's interesting to know about correlation and how it works, since it works well only for Linear Regressions (we'll se about it soon, don't worry), it isn't precise with graphs where the linear progression does not work.\n",
        "\n",
        "If you think about it, the first three result are really reliable, since we know that the data only goes to a single direction from star to finish. But even the last three results are pretty right, even though they're not reliable. You can say they are precise when you notice that, for the most part, the datasets of the graphs four and five stay at a straight line, as at the sixth graph the only \"problem\" is that the halves of it ate going to oposite directions.\n",
        "\n",
        "So, that's the lesson for this correlation topic: \n",
        "> if you know that you can use Linear Regression, it's pretty nice if you know the correlation as well, since it'll help you know how precise your foresighting will be with the results of your Regression."
      ]
    },
    {
      "cell_type": "markdown",
      "metadata": {
        "id": "4kZBbAxf2-Pd"
      },
      "source": [
        "## Linear Regression\n",
        "Since we learned what correlation is and how it works, let's go to some real Regression.\n",
        "\n",
        "Linear Regression is the easiest and less used/applicable regression that exists. To understand why that happens, let's first understand it's purpose and how it works."
      ]
    },
    {
      "cell_type": "markdown",
      "metadata": {
        "id": "p65V3T9x8h4I"
      },
      "source": [
        "### Purpose\n",
        "Let's imagine we have a graph that give us the correlation between the price and the amount of habitable square feet of a lot of houses."
      ]
    },
    {
      "cell_type": "code",
      "metadata": {
        "id": "KDC-gXNz5EHZ",
        "colab": {
          "base_uri": "https://localhost:8080/",
          "height": 368
        },
        "outputId": "545aecd6-0ea9-457e-8fc1-42864f7a3942"
      },
      "source": [
        "import pandas as pd \n",
        "from pathlib import Path\n",
        "\n",
        "path = Path('drive/MyDrive/Machine Learning/Supervised Learning/Regression/Multilinear/data.csv')\n",
        "data = pd.read_csv(path, usecols=['price', 'sqft_living'])\n",
        "\n",
        "x_1 = data.sqft_living\n",
        "y_1 = data.price\n",
        "\n",
        "fig, ax = plt.subplots(figsize=(8,5))\n",
        "ax.scatter(x_1, y_1)\n",
        "\n",
        "ax.set_xlabel('sqft_living', color='white')\n",
        "ax.set_ylabel('price (* 1,000,000)', color='white')\n",
        "\n",
        "ax.set_title('Data correlation rate: ' + str(correlation(x_1, y_1)), color='white')"
      ],
      "execution_count": 37,
      "outputs": [
        {
          "output_type": "execute_result",
          "data": {
            "text/plain": [
              "Text(0.5, 1.0, 'Data correlation rate: 0.6699171133946015')"
            ]
          },
          "metadata": {
            "tags": []
          },
          "execution_count": 37
        },
        {
          "output_type": "display_data",
          "data": {
            "image/png": "[encoded data removed]",
            "text/plain": [
              "<Figure size 576x360 with 1 Axes>"
            ]
          },
          "metadata": {
            "tags": [],
            "needs_background": "light"
          }
        }
      ]
    },
    {
      "cell_type": "markdown",
      "metadata": {
        "id": "lM-XdgkC4i8B"
      },
      "source": [
        "Oh, look, we DO have a graph, and with those exact same values. What a coincidence.\n",
        "\n",
        "By the way, as you can see, those data were extracted from [this .csv file](https://drive.google.com/file/d/1-1jVMFxJzjaesmUBx-PDTvhAMmlKPBqG/view?usp=sharing), and we'll use this file throughout the exercises and examples from now on.\n",
        "\n",
        "Now that we have the graph, let's consider the data of the graph being some data that we want to study and learn a pattern out of it.\n",
        "\n",
        "\"But why do we want to learn the pattern of that data?\" you may ask. Then I answer you with another question: \"Why WOULDN'T we want to do so?\".\n",
        "\n",
        "No, but for real, it is really interesting to know the pattern, since once we get it, we can predict some new data based on that. \n",
        "\n",
        "Let's use the example above, X is the amount of habitable square feet of a house (I'll call it just size from now on) and Y is the price of that house (* 1 million).\n",
        "\n",
        "Once we know the pattern between prices and the size of the houses, we can predict prices of other houses, that are not on our primary dataset, based on their sizes.\n",
        "\n",
        "Now that we know the purpose of regression, let's see how the simplest of the regressions, the linear, works."
      ]
    },
    {
      "cell_type": "markdown",
      "metadata": {
        "id": "795d4x-U8t0_"
      },
      "source": [
        "### How it works\n",
        "\n",
        "Let's use the data of the price/size of the houses for this. So, now we have our data, and we want to find the pattern of this data. To do so, we'll have to find a function that can return us the value of $y$ once we give it an $x$. I think we've already seen that text somewhere... Yeah, high school, with that beautiful $y = f(x)$, but what we want the algorithm to find this time is the $f$, based on the data we give him.\n",
        "\n",
        "Since we're working with linear regression, there is a simple way of finding that function:  \n",
        "\n",
        "$y = β0 +β1x$\n",
        "\n",
        "In this equation, we have the following meanings:\n",
        "* $y$ = Dependent variable\n",
        "* $β0$ = Point where the line intercepts the $y$ axe\n",
        "* $β1$ = Angular coeficient\n",
        "* $x$ = Independent variable\n",
        "\n",
        "Ok, a lot of quite dificult words, let's break it in parts. Based on what we said before, we can safely say that the price of the house would be $y$ and the size of the house would be $x$, since the price completely depends on the size of the house. $β0 +β1x$ is basically $f(x)$. Now, to get $β0$ and $β1$, we need to pick another 2 equations:\n",
        "\n",
        "$𝛽0 = \\bar{y} - β1 \\bar{x} $\n",
        "\n",
        "$𝛽1= \\sum(x−\\bar{x})(y−\\bar{y}) / \\sum(x−\\bar{x})^2$\n",
        "\n",
        "In those cases, the letters with a bar on top of them like $\\bar{x}$ and $\\bar{y}$ repesents the average of the $x$ and $y$ values (as we've seen in the correlation topic).\n",
        "\n",
        "Now let's code those beautifull equations!"
      ]
    },
    {
      "cell_type": "code",
      "metadata": {
        "id": "NHH-nlHT58Ms"
      },
      "source": [
        "def linear_regression(dataset_x, dataset_y):\n",
        "  # Calculate β1 first\n",
        "\n",
        "  # x and y with a bar on top\n",
        "  average_of_x = sum(dataset_x) / len(dataset_x)\n",
        "  average_of_y = sum(dataset_y) / len(dataset_y)\n",
        "\n",
        "  first_sum_beta_1 = 0\n",
        "  second_sum_beta_1 = 0\n",
        "\n",
        "  for i in range(len(dataset_x)):\n",
        "    value_x = dataset_x[i] - average_of_x\n",
        "    first_sum_beta_1 += value_x * (dataset_y[i] - average_of_y)\n",
        "    second_sum_beta_1 += value_x ** 2\n",
        "\n",
        "  beta_1 = first_sum_beta_1 / second_sum_beta_1\n",
        "\n",
        "  # Now calculate β0\n",
        "\n",
        "  beta_0 = average_of_y - beta_1 * average_of_x\n",
        "\n",
        "  return beta_0, beta_1"
      ],
      "execution_count": 38,
      "outputs": []
    },
    {
      "cell_type": "code",
      "metadata": {
        "id": "2-54ZScZBL4h"
      },
      "source": [
        "def get_linear_value(beta_0, beta_1, x_value):\n",
        "  return beta_0 + beta_1 * x_value"
      ],
      "execution_count": 39,
      "outputs": []
    },
    {
      "cell_type": "code",
      "metadata": {
        "id": "ICwGuC4eBGNK"
      },
      "source": [
        "def draw_linear_regression_graph(dataset_x, dataset_y, subtitle_x, subtitle_y):\n",
        "  beta_0, beta_1 = linear_regression(dataset_x, dataset_y)\n",
        "\n",
        "  # Now we have the f(x), we just need the x\n",
        "  # Let's pick the proper x values that we already have to see how it goes\n",
        "  new_y_values = [get_linear_value(beta_0, beta_1, x) for x in dataset_x]\n",
        "\n",
        "  fig = plt.figure(figsize=(8,5))\n",
        "  ax = fig.add_subplot(111)\n",
        "  ax.scatter(dataset_x, dataset_y)\n",
        "\n",
        "  # plot draws a line between the points given the points coordinates\n",
        "  ax.plot(dataset_x, new_y_values, color='black')\n",
        "\n",
        "  ax.set_xlabel(subtitle_x, color='white')\n",
        "  ax.set_ylabel(subtitle_y, color='white')\n",
        "\n",
        "  ax.set_title(\"Data correlation rate: \" + str(correlation(dataset_x, dataset_y)), color='white')\n",
        "\n",
        "  return beta_0, beta_1"
      ],
      "execution_count": 40,
      "outputs": []
    },
    {
      "cell_type": "code",
      "metadata": {
        "colab": {
          "base_uri": "https://localhost:8080/",
          "height": 351
        },
        "id": "mY9j9lvsCEfl",
        "outputId": "93c18297-2b91-42b6-949c-bca23d00d0a5"
      },
      "source": [
        "beta_0, beta_1 = draw_linear_regression_graph(x_1, y_1, 'sqft_living', 'price (* 1,000,000)')"
      ],
      "execution_count": 41,
      "outputs": [
        {
          "output_type": "display_data",
          "data": {
            "image/png": "[encoded data removed]",
            "text/plain": [
              "<Figure size 576x360 with 1 Axes>"
            ]
          },
          "metadata": {
            "tags": [],
            "needs_background": "light"
          }
        }
      ]
    },
    {
      "cell_type": "markdown",
      "metadata": {
        "id": "wxnACM1BXs6F"
      },
      "source": [
        "And there it goes, there's the regression line that our algorithm traced.\n",
        "\n",
        "Since we now know that $f(x) = β0+β1x$, we can now predict the price of new houses based on their size. Let's get one with, for example, 3400 square feet:"
      ]
    },
    {
      "cell_type": "code",
      "metadata": {
        "id": "UAAHq_zPYK6I",
        "colab": {
          "base_uri": "https://localhost:8080/"
        },
        "outputId": "a3721af0-5639-4784-dc99-39e49f43920c"
      },
      "source": [
        "import locale\n",
        "# This is just made so that the number returned will be shown in the correct currency string\n",
        "locale.setlocale(locale.LC_ALL, '' )\n",
        "\n",
        "x_value = 3400\n",
        "\n",
        "house_price = round(get_linear_value(beta_0, beta_1, x_value))\n",
        "string_of_the_price = locale.currency(house_price, grouping=True)\n",
        "\n",
        "print('A house with 3400 habitable square feet should have a price near {}'.format(string_of_the_price))"
      ],
      "execution_count": 114,
      "outputs": [
        {
          "output_type": "stream",
          "text": [
            "A house with 3400 habitable square feet should have a price near $868,454.00\n"
          ],
          "name": "stdout"
        }
      ]
    },
    {
      "cell_type": "markdown",
      "metadata": {
        "id": "8xwOu3MbZEva"
      },
      "source": [
        "See? This actually can be usefull. Next we'll talk about some harder ones, like multilinear and polygonal regressions. \n",
        "\n",
        "Hope you're enjoying and learning well untill now :D"
      ]
    },
    {
      "cell_type": "markdown",
      "metadata": {
        "id": "9993iA-sKnYQ"
      },
      "source": [
        "## Multilinear Regression (or multiple linear regression)\n",
        "\n",
        "Let's jump now on something a little more complex, shall we?\n",
        "\n",
        "Well, this is not really that harder, but it adds some new horizons to our journey of predicting house prices."
      ]
    },
    {
      "cell_type": "markdown",
      "metadata": {
        "id": "ITSgE6hEM6am"
      },
      "source": [
        "### Purpose\n",
        "\n",
        "We already know now how to predict a house price based on it's size, but we also know that, in real life, size is absolutely not the only thing that matters. hehe. Normally we would also use other data, like number of rooms, number of closets, number of bathrooms, location, etc.\n",
        "\n",
        "To be able to compare all of that data and see how a dependent variable (price in our case) relates to them, we can use the Multilinear Regression. It works basically the same way as a linear regression, but now, as the name says, we have multiple lines to compare. So let's continue wit the house example.\n",
        "\n",
        "For this next examples, we'll continue on using that same [.csv file](https://drive.google.com/file/d/1-1jVMFxJzjaesmUBx-PDTvhAMmlKPBqG/view?usp=sharing) that we talked before. So, let's read all the data of the file this time."
      ]
    },
    {
      "cell_type": "code",
      "metadata": {
        "id": "s1ciGW5OaneC",
        "colab": {
          "base_uri": "https://localhost:8080/",
          "height": 796
        },
        "outputId": "ffa26a54-ea23-4fb2-d7e0-b4739d463dd8"
      },
      "source": [
        "data = pd.read_csv(path)\n",
        "data"
      ],
      "execution_count": 43,
      "outputs": [
        {
          "output_type": "execute_result",
          "data": {
            "text/html": [
              "<div>\n",
              "<style scoped>\n",
              "    .dataframe tbody tr th:only-of-type {\n",
              "        vertical-align: middle;\n",
              "    }\n",
              "\n",
              "    .dataframe tbody tr th {\n",
              "        vertical-align: top;\n",
              "    }\n",
              "\n",
              "    .dataframe thead th {\n",
              "        text-align: right;\n",
              "    }\n",
              "</style>\n",
              "<table border=\"1\" class=\"dataframe\">\n",
              "  <thead>\n",
              "    <tr style=\"text-align: right;\">\n",
              "      <th></th>\n",
              "      <th>date</th>\n",
              "      <th>price</th>\n",
              "      <th>bedrooms</th>\n",
              "      <th>bathrooms</th>\n",
              "      <th>sqft_living</th>\n",
              "      <th>sqft_lot</th>\n",
              "      <th>floors</th>\n",
              "      <th>waterfront</th>\n",
              "      <th>view</th>\n",
              "      <th>condition</th>\n",
              "      <th>sqft_above</th>\n",
              "      <th>sqft_basement</th>\n",
              "      <th>yr_built</th>\n",
              "      <th>yr_renovated</th>\n",
              "      <th>street</th>\n",
              "      <th>city</th>\n",
              "      <th>statezip</th>\n",
              "      <th>country</th>\n",
              "    </tr>\n",
              "  </thead>\n",
              "  <tbody>\n",
              "    <tr>\n",
              "      <th>0</th>\n",
              "      <td>2014-05-02 00:00:00</td>\n",
              "      <td>3.130000e+05</td>\n",
              "      <td>3.0</td>\n",
              "      <td>1.50</td>\n",
              "      <td>1340</td>\n",
              "      <td>7912</td>\n",
              "      <td>1.5</td>\n",
              "      <td>0</td>\n",
              "      <td>0</td>\n",
              "      <td>3</td>\n",
              "      <td>1340</td>\n",
              "      <td>0</td>\n",
              "      <td>1955</td>\n",
              "      <td>2005</td>\n",
              "      <td>18810 Densmore Ave N</td>\n",
              "      <td>Shoreline</td>\n",
              "      <td>WA 98133</td>\n",
              "      <td>USA</td>\n",
              "    </tr>\n",
              "    <tr>\n",
              "      <th>1</th>\n",
              "      <td>2014-05-02 00:00:00</td>\n",
              "      <td>2.384000e+06</td>\n",
              "      <td>5.0</td>\n",
              "      <td>2.50</td>\n",
              "      <td>3650</td>\n",
              "      <td>9050</td>\n",
              "      <td>2.0</td>\n",
              "      <td>0</td>\n",
              "      <td>4</td>\n",
              "      <td>5</td>\n",
              "      <td>3370</td>\n",
              "      <td>280</td>\n",
              "      <td>1921</td>\n",
              "      <td>0</td>\n",
              "      <td>709 W Blaine St</td>\n",
              "      <td>Seattle</td>\n",
              "      <td>WA 98119</td>\n",
              "      <td>USA</td>\n",
              "    </tr>\n",
              "    <tr>\n",
              "      <th>2</th>\n",
              "      <td>2014-05-02 00:00:00</td>\n",
              "      <td>3.420000e+05</td>\n",
              "      <td>3.0</td>\n",
              "      <td>2.00</td>\n",
              "      <td>1930</td>\n",
              "      <td>11947</td>\n",
              "      <td>1.0</td>\n",
              "      <td>0</td>\n",
              "      <td>0</td>\n",
              "      <td>4</td>\n",
              "      <td>1930</td>\n",
              "      <td>0</td>\n",
              "      <td>1966</td>\n",
              "      <td>0</td>\n",
              "      <td>26206-26214 143rd Ave SE</td>\n",
              "      <td>Kent</td>\n",
              "      <td>WA 98042</td>\n",
              "      <td>USA</td>\n",
              "    </tr>\n",
              "    <tr>\n",
              "      <th>3</th>\n",
              "      <td>2014-05-02 00:00:00</td>\n",
              "      <td>4.200000e+05</td>\n",
              "      <td>3.0</td>\n",
              "      <td>2.25</td>\n",
              "      <td>2000</td>\n",
              "      <td>8030</td>\n",
              "      <td>1.0</td>\n",
              "      <td>0</td>\n",
              "      <td>0</td>\n",
              "      <td>4</td>\n",
              "      <td>1000</td>\n",
              "      <td>1000</td>\n",
              "      <td>1963</td>\n",
              "      <td>0</td>\n",
              "      <td>857 170th Pl NE</td>\n",
              "      <td>Bellevue</td>\n",
              "      <td>WA 98008</td>\n",
              "      <td>USA</td>\n",
              "    </tr>\n",
              "    <tr>\n",
              "      <th>4</th>\n",
              "      <td>2014-05-02 00:00:00</td>\n",
              "      <td>5.500000e+05</td>\n",
              "      <td>4.0</td>\n",
              "      <td>2.50</td>\n",
              "      <td>1940</td>\n",
              "      <td>10500</td>\n",
              "      <td>1.0</td>\n",
              "      <td>0</td>\n",
              "      <td>0</td>\n",
              "      <td>4</td>\n",
              "      <td>1140</td>\n",
              "      <td>800</td>\n",
              "      <td>1976</td>\n",
              "      <td>1992</td>\n",
              "      <td>9105 170th Ave NE</td>\n",
              "      <td>Redmond</td>\n",
              "      <td>WA 98052</td>\n",
              "      <td>USA</td>\n",
              "    </tr>\n",
              "    <tr>\n",
              "      <th>...</th>\n",
              "      <td>...</td>\n",
              "      <td>...</td>\n",
              "      <td>...</td>\n",
              "      <td>...</td>\n",
              "      <td>...</td>\n",
              "      <td>...</td>\n",
              "      <td>...</td>\n",
              "      <td>...</td>\n",
              "      <td>...</td>\n",
              "      <td>...</td>\n",
              "      <td>...</td>\n",
              "      <td>...</td>\n",
              "      <td>...</td>\n",
              "      <td>...</td>\n",
              "      <td>...</td>\n",
              "      <td>...</td>\n",
              "      <td>...</td>\n",
              "      <td>...</td>\n",
              "    </tr>\n",
              "    <tr>\n",
              "      <th>4593</th>\n",
              "      <td>2014-07-09 00:00:00</td>\n",
              "      <td>3.081667e+05</td>\n",
              "      <td>3.0</td>\n",
              "      <td>1.75</td>\n",
              "      <td>1510</td>\n",
              "      <td>6360</td>\n",
              "      <td>1.0</td>\n",
              "      <td>0</td>\n",
              "      <td>0</td>\n",
              "      <td>4</td>\n",
              "      <td>1510</td>\n",
              "      <td>0</td>\n",
              "      <td>1954</td>\n",
              "      <td>1979</td>\n",
              "      <td>501 N 143rd St</td>\n",
              "      <td>Seattle</td>\n",
              "      <td>WA 98133</td>\n",
              "      <td>USA</td>\n",
              "    </tr>\n",
              "    <tr>\n",
              "      <th>4594</th>\n",
              "      <td>2014-07-09 00:00:00</td>\n",
              "      <td>5.343333e+05</td>\n",
              "      <td>3.0</td>\n",
              "      <td>2.50</td>\n",
              "      <td>1460</td>\n",
              "      <td>7573</td>\n",
              "      <td>2.0</td>\n",
              "      <td>0</td>\n",
              "      <td>0</td>\n",
              "      <td>3</td>\n",
              "      <td>1460</td>\n",
              "      <td>0</td>\n",
              "      <td>1983</td>\n",
              "      <td>2009</td>\n",
              "      <td>14855 SE 10th Pl</td>\n",
              "      <td>Bellevue</td>\n",
              "      <td>WA 98007</td>\n",
              "      <td>USA</td>\n",
              "    </tr>\n",
              "    <tr>\n",
              "      <th>4595</th>\n",
              "      <td>2014-07-09 00:00:00</td>\n",
              "      <td>4.169042e+05</td>\n",
              "      <td>3.0</td>\n",
              "      <td>2.50</td>\n",
              "      <td>3010</td>\n",
              "      <td>7014</td>\n",
              "      <td>2.0</td>\n",
              "      <td>0</td>\n",
              "      <td>0</td>\n",
              "      <td>3</td>\n",
              "      <td>3010</td>\n",
              "      <td>0</td>\n",
              "      <td>2009</td>\n",
              "      <td>0</td>\n",
              "      <td>759 Ilwaco Pl NE</td>\n",
              "      <td>Renton</td>\n",
              "      <td>WA 98059</td>\n",
              "      <td>USA</td>\n",
              "    </tr>\n",
              "    <tr>\n",
              "      <th>4596</th>\n",
              "      <td>2014-07-10 00:00:00</td>\n",
              "      <td>2.034000e+05</td>\n",
              "      <td>4.0</td>\n",
              "      <td>2.00</td>\n",
              "      <td>2090</td>\n",
              "      <td>6630</td>\n",
              "      <td>1.0</td>\n",
              "      <td>0</td>\n",
              "      <td>0</td>\n",
              "      <td>3</td>\n",
              "      <td>1070</td>\n",
              "      <td>1020</td>\n",
              "      <td>1974</td>\n",
              "      <td>0</td>\n",
              "      <td>5148 S Creston St</td>\n",
              "      <td>Seattle</td>\n",
              "      <td>WA 98178</td>\n",
              "      <td>USA</td>\n",
              "    </tr>\n",
              "    <tr>\n",
              "      <th>4597</th>\n",
              "      <td>2014-07-10 00:00:00</td>\n",
              "      <td>2.206000e+05</td>\n",
              "      <td>3.0</td>\n",
              "      <td>2.50</td>\n",
              "      <td>1490</td>\n",
              "      <td>8102</td>\n",
              "      <td>2.0</td>\n",
              "      <td>0</td>\n",
              "      <td>0</td>\n",
              "      <td>4</td>\n",
              "      <td>1490</td>\n",
              "      <td>0</td>\n",
              "      <td>1990</td>\n",
              "      <td>0</td>\n",
              "      <td>18717 SE 258th St</td>\n",
              "      <td>Covington</td>\n",
              "      <td>WA 98042</td>\n",
              "      <td>USA</td>\n",
              "    </tr>\n",
              "  </tbody>\n",
              "</table>\n",
              "<p>4598 rows × 18 columns</p>\n",
              "</div>"
            ],
            "text/plain": [
              "                     date         price  bedrooms  ...       city  statezip  country\n",
              "0     2014-05-02 00:00:00  3.130000e+05       3.0  ...  Shoreline  WA 98133      USA\n",
              "1     2014-05-02 00:00:00  2.384000e+06       5.0  ...    Seattle  WA 98119      USA\n",
              "2     2014-05-02 00:00:00  3.420000e+05       3.0  ...       Kent  WA 98042      USA\n",
              "3     2014-05-02 00:00:00  4.200000e+05       3.0  ...   Bellevue  WA 98008      USA\n",
              "4     2014-05-02 00:00:00  5.500000e+05       4.0  ...    Redmond  WA 98052      USA\n",
              "...                   ...           ...       ...  ...        ...       ...      ...\n",
              "4593  2014-07-09 00:00:00  3.081667e+05       3.0  ...    Seattle  WA 98133      USA\n",
              "4594  2014-07-09 00:00:00  5.343333e+05       3.0  ...   Bellevue  WA 98007      USA\n",
              "4595  2014-07-09 00:00:00  4.169042e+05       3.0  ...     Renton  WA 98059      USA\n",
              "4596  2014-07-10 00:00:00  2.034000e+05       4.0  ...    Seattle  WA 98178      USA\n",
              "4597  2014-07-10 00:00:00  2.206000e+05       3.0  ...  Covington  WA 98042      USA\n",
              "\n",
              "[4598 rows x 18 columns]"
            ]
          },
          "metadata": {
            "tags": []
          },
          "execution_count": 43
        }
      ]
    },
    {
      "cell_type": "markdown",
      "metadata": {
        "id": "zmcnqWW8y7qa"
      },
      "source": [
        "Wow, it sure is a lot of data.\n",
        "\n",
        "Ok, now let's pick up just 3 columns out of it, to start easy, shall we?\n",
        "\n",
        "I'll pick the same 2 we did before and the number of bathrooms in the house, let's see if it makes any diference. You can pick wichever columns you want, just remember to set the price as one of those 3, because it's what we want to calculate at the end."
      ]
    },
    {
      "cell_type": "code",
      "metadata": {
        "colab": {
          "base_uri": "https://localhost:8080/",
          "height": 700
        },
        "id": "kIVrlnCtzTvT",
        "outputId": "1c39fb18-1868-425d-f8f8-c556b0194141"
      },
      "source": [
        "prices = data.price\n",
        "sizes = data.sqft_living\n",
        "bathrooms = data.bathrooms\n",
        "\n",
        "draw_linear_regression_graph(sizes, prices, 'size', 'price')\n",
        "draw_linear_regression_graph(bathrooms, prices, 'bathrooms', 'price')"
      ],
      "execution_count": 48,
      "outputs": [
        {
          "output_type": "execute_result",
          "data": {
            "text/plain": [
              "(35126.59693255299, 235326.6051967395)"
            ]
          },
          "metadata": {
            "tags": []
          },
          "execution_count": 48
        },
        {
          "output_type": "display_data",
          "data": {
            "image/png": "[encoded data removed]",
            "text/plain": [
              "<Figure size 576x360 with 1 Axes>"
            ]
          },
          "metadata": {
            "tags": [],
            "needs_background": "light"
          }
        },
        {
          "output_type": "display_data",
          "data": {
            "image/png": "[encoded data removed]",
            "text/plain": [
              "<Figure size 576x360 with 1 Axes>"
            ]
          },
          "metadata": {
            "tags": [],
            "needs_background": "light"
          }
        }
      ]
    },
    {
      "cell_type": "markdown",
      "metadata": {
        "id": "oQfvzQPSHKoe"
      },
      "source": [
        ""
      ]
    },
    {
      "cell_type": "markdown",
      "metadata": {
        "id": "B4kcM7rr8oCc"
      },
      "source": [
        "Once we selected the data we want to user, let's understand what we'll need to do to make this multilinear regression work."
      ]
    },
    {
      "cell_type": "markdown",
      "metadata": {
        "id": "46nwJSnWAVUP"
      },
      "source": [
        "### How it works\n",
        "\n",
        "We now have 3 different data to correlate instead of 2, thus, we'll need a new equation for that as well. This is the equation for the Multilinear Regression:\n",
        "\n",
        "$y = β_{0} + β_{1} x_{i1} + β_{2} x_{i2} + ...+ β_{n} x_{in}$\n",
        "\n",
        "To calculate the value of $\\beta$ we'll use this other equation:\n",
        "\n",
        "$β = (X^t \\ X)^{-1} \\ X^t \\ y$\n",
        "\n",
        "To understand this equations, you have to know that:\n",
        "* $y$ is the dependent variable.\n",
        "* $X$ is a square matrix where $X_{i0}$ = 1.\n",
        "* $X^t$ is the transposed matrix of $X$.\n",
        "* Each $x$ is an independent variable that represents an index $i$x$n$ in the $X$ matrix.\n",
        "* When you say that you have a square matrix $X$ and want $X^{-1}$, you want the inverse of $X$.\n",
        "\n",
        "With that we can say that there is an even simpler way to describe the first equation. Since we just need to pass through every element of the $X$ matrix and multiply it by β, the only thing we need to do is multiply β by the $X$ matrix, like this:\n",
        "\n",
        "$y = βX$\n",
        "\n",
        "There we go. It's simple isn't it? Then let's code it out!\n"
      ]
    },
    {
      "cell_type": "code",
      "metadata": {
        "id": "_lcbvAabGuCM"
      },
      "source": [
        "def multilinear_regression(matrix_x, array_y):\n",
        "  # transposing the X matrix\n",
        "  transposed_x = matrix_x.T\n",
        "\n",
        "  # Transforming the array with the y values into a matrix to be able to make the matrix multiplication with python\n",
        "  matrix_y = np.matrix([[x] for x in array_y])\n",
        "\n",
        "  # β = (Xt X)-1 Xt y\n",
        "  # np.linalg.pinv inverts a matrix\n",
        "  # @ multiply two matrices\n",
        "  beta = np.linalg.pinv(transposed_x @ matrix_x) @ transposed_x @ matrix_y\n",
        "\n",
        "  # Use Beta to calculate the values of y\n",
        "  final_y_values = matrix_x @ beta\n",
        "  \n",
        "  return final_y_values, beta"
      ],
      "execution_count": 99,
      "outputs": []
    },
    {
      "cell_type": "code",
      "metadata": {
        "id": "L09eMW5kKdMv"
      },
      "source": [
        "def draw_multilinear_regression_graph(X_matrix, array_y):\n",
        "  fig = plt.figure(figsize=(8,5))\n",
        "\n",
        "  # Even though I did this generalization, I really didn't test it with more than 3 values, and don't recommend trying it at all\n",
        "  amount_of_variables = X_matrix.shape[1]\n",
        "  dimension = '{}d'.format(str(amount_of_variables))\n",
        "  \n",
        "  ax = fig.gca(projection=dimension)\n",
        "  ax.scatter3D(sizes, bathrooms, prices)\n",
        "\n",
        "  new_y_values, multilinear_beta = multilinear_regression(X_matrix, array_y)\n",
        "\n",
        "  # np.squeeze(np.asarray()) turns a matrix 1xn or nx1 into an array\n",
        "  new_y_array = np.squeeze(np.asarray(new_y_values))\n",
        "\n",
        "  ax.view_init(elev=30, azim=40)\n",
        "  ax.plot3D(sizes, bathrooms, new_y_array, color='black')\n",
        "\n",
        "  return multilinear_beta"
      ],
      "execution_count": 94,
      "outputs": []
    },
    {
      "cell_type": "code",
      "metadata": {
        "colab": {
          "base_uri": "https://localhost:8080/",
          "height": 354
        },
        "id": "kVquPOZ-RPeA",
        "outputId": "f276cfb0-b7df-4ba2-c26a-7f0bc5b1ea7b"
      },
      "source": [
        "# Remembering that the first column of X is 1\n",
        "# zip(list, list) returns an iterator of tuples\n",
        "X_matrix = np.matrix([[1, s, b] for s, b in zip(sizes, bathrooms)])\n",
        "multilinear_beta = draw_multilinear_regression_graph(X_matrix, prices)"
      ],
      "execution_count": 98,
      "outputs": [
        {
          "output_type": "stream",
          "text": [
            "[[  3616.50465093]\n",
            " [   266.16522413]\n",
            " [-13640.50935485]]\n"
          ],
          "name": "stdout"
        },
        {
          "output_type": "display_data",
          "data": {
            "image/png": "[encoded data removed]",
            "text/plain": [
              "<Figure size 576x360 with 1 Axes>"
            ]
          },
          "metadata": {
            "tags": [],
            "needs_background": "light"
          }
        }
      ]
    },
    {
      "cell_type": "markdown",
      "metadata": {
        "id": "jABijJ2tPtfO"
      },
      "source": [
        "It's beautifull isn't it? Maybe not understandable, but beautifull.\n",
        "\n",
        "Whatever, we don't need to really understand this graph, I just made it cause i wondered what it would be like.\n",
        "\n",
        "What we really wanted with this algorithm was the value of $\\beta$. Now that we have it, we can just do as we did in the linear regression and go calculating a lot of prices of houses based on their sizes and number of bathrooms, that are the most important parts, of course. Let's try to get the price of a house with those same 3400 square feet and 3 bathrooms. Maybe there's a difference in the result."
      ]
    },
    {
      "cell_type": "code",
      "metadata": {
        "colab": {
          "base_uri": "https://localhost:8080/"
        },
        "id": "yeQlldDuQ9d5",
        "outputId": "0da031e4-057e-4fc5-dfa2-75e59b8de648"
      },
      "source": [
        "X_matrix = np.matrix([[1, 3400, 3]])\n",
        "result = np.asarray(X_matrix @ multilinear_beta)[0]\n",
        "\n",
        "new_house_price = round(result[0])\n",
        "new_string_of_the_price = locale.currency(new_house_price, grouping=True)\n",
        "\n",
        "difference_linear_multilinear_price = new_house_price - house_price\n",
        "if difference_linear_multilinear_price < 0:\n",
        "  difference_linear_multilinear_price *= -1\n",
        "# Tired of making big names\n",
        "string_difference = locale.currency(difference_linear_multilinear_price, grouping=True)\n",
        "\n",
        "print('A house with 3400 habitable square feet and 3 bathrooms should have a price near', new_string_of_the_price)\n",
        "print('The difference between the new and the old price is ', string_difference, '(old price is {})'.format(string_of_the_price))"
      ],
      "execution_count": 121,
      "outputs": [
        {
          "output_type": "stream",
          "text": [
            "A house with 3400 habitable square feet and 3 bathrooms should have a price near $867,657.00\n",
            "The difference between the new and the old price is  $797.00 (old price is $868,454.00)\n"
          ],
          "name": "stdout"
        }
      ]
    },
    {
      "cell_type": "markdown",
      "metadata": {
        "id": "yNAArQzzWSRs"
      },
      "source": [
        "And there you go, with 3 bathrooms the same house got $797.00 more expensive. Maybe the last one thought there was only 1 bathroom after all...\n",
        "\n",
        "Well, now we know how to do a multilinear regression. UHUUUUUUUU!!!!\n",
        "\n",
        "Play as much as you want with the .csv that we used for this examples, try some 4, 5, 6 or even all of the types of data to see what it returns to you. Just remember that in the file we have date and string values, so you'll need to treat them to be able to get something good out of it.\n",
        "\n",
        "After playing a little with the file, let's advance some nice polynomial regression, shall we?"
      ]
    },
    {
      "cell_type": "code",
      "metadata": {
        "colab": {
          "base_uri": "https://localhost:8080/"
        },
        "id": "J_XF5W1JU-yu",
        "outputId": "e6bbada2-3d76-4042-c6b8-d317ec0c645b"
      },
      "source": [
        "from google.colab import drive\n",
        "drive.mount('/content/drive')"
      ],
      "execution_count": 45,
      "outputs": [
        {
          "output_type": "stream",
          "text": [
            "Drive already mounted at /content/drive; to attempt to forcibly remount, call drive.mount(\"/content/drive\", force_remount=True).\n"
          ],
          "name": "stdout"
        }
      ]
    }
  ]
}
